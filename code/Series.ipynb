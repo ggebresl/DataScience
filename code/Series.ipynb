{
 "cells": [
  {
   "cell_type": "markdown",
   "metadata": {},
   "source": [
    "## Series \n",
    "Series is a one-dimensional array like object containing an array of data(any Numpy data type, and an associated array of data labels, called its index. \n"
   ]
  },
  {
   "cell_type": "code",
   "execution_count": 10,
   "metadata": {},
   "outputs": [
    {
     "name": "stdout",
     "output_type": "stream",
     "text": [
      "0    5\n",
      "1    4\n",
      "2    3\n",
      "3    2\n",
      "4    1\n",
      "dtype: int64\n",
      "RangeIndex(start=0, stop=5, step=1)\n"
     ]
    }
   ],
   "source": [
    "import pandas as pd\n",
    "ser= pd.Series([5,4,3,2,1])   # a simple series print(mjp)  \n",
    "\n",
    "print(ser)\n",
    "ser.values\n",
    "print(ser.index)\n",
    "\n"
   ]
  },
  {
   "cell_type": "code",
   "execution_count": 16,
   "metadata": {},
   "outputs": [
    {
     "name": "stdout",
     "output_type": "stream",
     "text": [
      "a     5\n",
      "b     4\n",
      "c     3\n",
      "d     2\n",
      "e     1\n",
      "f    -7\n",
      "h   -29\n",
      "dtype: int64\n"
     ]
    },
    {
     "data": {
      "text/plain": [
       "Index(['a', 'b', 'c', 'd', 'e', 'f', 'h'], dtype='object')"
      ]
     },
     "execution_count": 16,
     "metadata": {},
     "output_type": "execute_result"
    }
   ],
   "source": [
    "jeeva = pd.Series([5,4,3,2,1,-7,-29], index =['a','b','c','d','e','f','h'])   # The index is specified \n",
    "print(jeeva)\n",
    "jeeva.index\n"
   ]
  },
  {
   "cell_type": "code",
   "execution_count": 17,
   "metadata": {},
   "outputs": [],
   "source": [
    "jeeva['d'] = 9   # change the value of a particular element in series "
   ]
  },
  {
   "cell_type": "code",
   "execution_count": 18,
   "metadata": {},
   "outputs": [
    {
     "data": {
      "text/plain": [
       "a     5\n",
       "b     4\n",
       "c     3\n",
       "d     9\n",
       "e     1\n",
       "f    -7\n",
       "h   -29\n",
       "dtype: int64"
      ]
     },
     "execution_count": 18,
     "metadata": {},
     "output_type": "execute_result"
    }
   ],
   "source": [
    "jeeva"
   ]
  },
  {
   "cell_type": "code",
   "execution_count": 19,
   "metadata": {},
   "outputs": [
    {
     "name": "stdout",
     "output_type": "stream",
     "text": [
      "a    5\n",
      "b    4\n",
      "c    3\n",
      "d    9\n",
      "e    1\n",
      "dtype: int64\n"
     ]
    }
   ],
   "source": [
    "jeeva['d'] = 9   # change the value of a particular element in series \n",
    "print(jeeva[jeeva>0])  "
   ]
  },
  {
   "cell_type": "code",
   "execution_count": 20,
   "metadata": {},
   "outputs": [
    {
     "name": "stdout",
     "output_type": "stream",
     "text": [
      "a    10\n",
      "b     8\n",
      "c     6\n",
      "d    18\n",
      "e     2\n",
      "f   -14\n",
      "h   -58\n",
      "dtype: int64\n"
     ]
    }
   ],
   "source": [
    "print(jeeva *2)  # multiplies 2 to each element of a series "
   ]
  },
  {
   "cell_type": "code",
   "execution_count": 22,
   "metadata": {},
   "outputs": [
    {
     "data": {
      "text/plain": [
       "-2.0"
      ]
     },
     "execution_count": 22,
     "metadata": {},
     "output_type": "execute_result"
    }
   ],
   "source": [
    "import numpy as np \n",
    "np.mean(jeeva)  # you can apply numpy functions to a Series "
   ]
  },
  {
   "cell_type": "code",
   "execution_count": 27,
   "metadata": {},
   "outputs": [
    {
     "name": "stdout",
     "output_type": "stream",
     "text": [
      "Rooney        50000\n",
      "Messi         75000\n",
      "Ronaldo       85000\n",
      "Fabregas      40000\n",
      "Van persie    67000\n",
      "dtype: int64\n"
     ]
    }
   ],
   "source": [
    "player_salary ={'Rooney': 50000, 'Messi': 75000, 'Ronaldo': 85000, 'Fabregas':40000, 'Van persie': 67000} \n",
    "\n",
    "new_player = pd.Series(player_salary)  # converting a dictionary to a series print(new_player)   # the series has keys of a dictionary \n",
    "print(new_player)\n",
    "\n",
    "\n",
    "\n",
    "\n"
   ]
  },
  {
   "cell_type": "code",
   "execution_count": 31,
   "metadata": {},
   "outputs": [
    {
     "name": "stdout",
     "output_type": "stream",
     "text": [
      "Klose             NaN\n",
      "Messi         75000.0\n",
      "Ronaldo       85000.0\n",
      "Van persie    67000.0\n",
      "Ballack           NaN\n",
      "dtype: float64\n"
     ]
    }
   ],
   "source": [
    "players =['Klose', 'Messi', 'Ronaldo', 'Van persie', 'Ballack'] \n",
    "\n",
    "player_1 =pd.Series(player_salary, index= players) \n",
    "print(player_1)"
   ]
  },
  {
   "cell_type": "code",
   "execution_count": 41,
   "metadata": {},
   "outputs": [
    {
     "name": "stdout",
     "output_type": "stream",
     "text": [
      "Klose          True\n",
      "Messi         False\n",
      "Ronaldo       False\n",
      "Van persie    False\n",
      "Ballack        True\n",
      "dtype: bool\n",
      "Klose          True\n",
      "Messi         False\n",
      "Ronaldo       False\n",
      "Van persie    False\n",
      "Ballack        True\n",
      "dtype: bool\n"
     ]
    }
   ],
   "source": [
    "print(pd.isnull(player_1))  #checks for Null values in player_1, pd denotes a pandas dataframe \n",
    "\n",
    "print(pd.isnull(player_1))\n",
    "\n",
    "    \n",
    " \n"
   ]
  },
  {
   "cell_type": "markdown",
   "metadata": {},
   "source": [
    "## Data Frame \n",
    "Data frame is a spread sheet like structure, containing ordered collection of columns. Each column can have different value type. Data frame has both row index and column index. \n"
   ]
  },
  {
   "cell_type": "code",
   "execution_count": 46,
   "metadata": {},
   "outputs": [
    {
     "name": "stdout",
     "output_type": "stream",
     "text": [
      "        State  Population   Language\n",
      "0     Gujarat          36   Gujarati\n",
      "1  Tamil Nadu          44      Tamil\n",
      "2      Andhra          67     Telugu\n",
      "3   Karnataka          89    Kannada\n",
      "4      Kerala          34  Malayalam\n"
     ]
    }
   ],
   "source": [
    "states ={'State' :['Gujarat', 'Tamil Nadu', ' Andhra', 'Karnataka', 'Kerala'], \n",
    "                  'Population': [36, 44, 67,89,34], \n",
    "                  'Language' :['Gujarati', 'Tamil', 'Telugu', 'Kannada', 'Malayalam']} \n",
    "\n",
    "india = pd.DataFrame(states)   # creating a data frame \n",
    "print(india) \n"
   ]
  },
  {
   "cell_type": "code",
   "execution_count": 49,
   "metadata": {},
   "outputs": [],
   "source": [
    " new_frame = pd.DataFrame(states, columns=['State', 'Language', 'Population', 'Per Capita Income'], index \n",
    "=['a','b','c','d','e']) # change the sequence of column index \n",
    "\n"
   ]
  },
  {
   "cell_type": "code",
   "execution_count": 50,
   "metadata": {},
   "outputs": [
    {
     "name": "stdout",
     "output_type": "stream",
     "text": [
      "        State   Language  Population Per Capita Income\n",
      "a     Gujarat   Gujarati          36               NaN\n",
      "b  Tamil Nadu      Tamil          44               NaN\n",
      "c      Andhra     Telugu          67               NaN\n",
      "d   Karnataka    Kannada          89               NaN\n",
      "e      Kerala  Malayalam          34               NaN\n"
     ]
    }
   ],
   "source": [
    "print(new_frame)"
   ]
  },
  {
   "cell_type": "code",
   "execution_count": 53,
   "metadata": {},
   "outputs": [
    {
     "name": "stdout",
     "output_type": "stream",
     "text": [
      "Index(['State', 'Language', 'Population', 'Per Capita Income'], dtype='object')\n",
      "a       Gujarat\n",
      "b    Tamil Nadu\n",
      "c        Andhra\n",
      "d     Karnataka\n",
      "e        Kerala\n",
      "Name: State, dtype: object\n"
     ]
    }
   ],
   "source": [
    "print(new_farme.columns)"
   ]
  },
  {
   "cell_type": "code",
   "execution_count": 54,
   "metadata": {},
   "outputs": [
    {
     "name": "stdout",
     "output_type": "stream",
     "text": [
      "a       Gujarat\n",
      "b    Tamil Nadu\n",
      "c        Andhra\n",
      "d     Karnataka\n",
      "e        Kerala\n",
      "Name: State, dtype: object\n"
     ]
    }
   ],
   "source": [
    "print(new_farme['State'])   # retrieveing data like dictionary "
   ]
  },
  {
   "cell_type": "code",
   "execution_count": 55,
   "metadata": {},
   "outputs": [
    {
     "name": "stdout",
     "output_type": "stream",
     "text": [
      "a    36\n",
      "b    44\n",
      "c    67\n",
      "d    89\n",
      "e    34\n",
      "Name: Population, dtype: int64\n"
     ]
    }
   ],
   "source": [
    "print(new_farme.Population)  # like Series "
   ]
  },
  {
   "cell_type": "code",
   "execution_count": 56,
   "metadata": {},
   "outputs": [
    {
     "name": "stdout",
     "output_type": "stream",
     "text": [
      "State                Karnataka\n",
      "Language               Kannada\n",
      "Population                  89\n",
      "Per Capita Income          NaN\n",
      "Name: d, dtype: object\n"
     ]
    }
   ],
   "source": [
    "print(new_farme.iloc[3])   # rows can be retrieved using .iloc function \n",
    "\n"
   ]
  },
  {
   "cell_type": "code",
   "execution_count": 57,
   "metadata": {},
   "outputs": [
    {
     "name": "stdout",
     "output_type": "stream",
     "text": [
      "        State   Language  Population Per Capita Income\n",
      "a     Gujarat   Gujarati          36               NaN\n",
      "b  Tamil Nadu      Tamil          44               NaN\n",
      "c      Andhra     Telugu          67               NaN\n",
      "d   Karnataka    Kannada          89               NaN\n",
      "e      Kerala  Malayalam          34               NaN\n"
     ]
    }
   ],
   "source": [
    "C"
   ]
  },
  {
   "cell_type": "code",
   "execution_count": 64,
   "metadata": {},
   "outputs": [],
   "source": [
    "\n",
    "new_farme['Per Capita Income'] = 99  # the empty per capita income column can be assigned a value "
   ]
  },
  {
   "cell_type": "code",
   "execution_count": 65,
   "metadata": {},
   "outputs": [
    {
     "name": "stdout",
     "output_type": "stream",
     "text": [
      "        State   Language  Population Per Capita Income\n",
      "a     Gujarat   Gujarati          36               NaN\n",
      "b  Tamil Nadu      Tamil          44               NaN\n",
      "c      Andhra     Telugu          67               NaN\n",
      "d   Karnataka    Kannada          89               NaN\n",
      "e      Kerala  Malayalam          34               NaN\n"
     ]
    }
   ],
   "source": [
    "print(new_frame)"
   ]
  },
  {
   "cell_type": "code",
   "execution_count": 62,
   "metadata": {},
   "outputs": [],
   "source": [
    " "
   ]
  },
  {
   "cell_type": "code",
   "execution_count": 68,
   "metadata": {},
   "outputs": [],
   "source": [
    "new_farme['Per Capita Income'] = np.arange(5)   # assigning a value to the last column "
   ]
  },
  {
   "cell_type": "code",
   "execution_count": 69,
   "metadata": {},
   "outputs": [
    {
     "name": "stdout",
     "output_type": "stream",
     "text": [
      "        State   Language  Population Per Capita Income\n",
      "a     Gujarat   Gujarati          36               NaN\n",
      "b  Tamil Nadu      Tamil          44               NaN\n",
      "c      Andhra     Telugu          67               NaN\n",
      "d   Karnataka    Kannada          89               NaN\n",
      "e      Kerala  Malayalam          34               NaN\n"
     ]
    }
   ],
   "source": [
    "print(new_frame)"
   ]
  },
  {
   "cell_type": "code",
   "execution_count": 71,
   "metadata": {},
   "outputs": [],
   "source": [
    "series = pd.Series([44,33,22], index =['b','c','d']) \n",
    "\n",
    "new_farme['Per Capita Income'] = series "
   ]
  },
  {
   "cell_type": "code",
   "execution_count": 72,
   "metadata": {},
   "outputs": [
    {
     "name": "stdout",
     "output_type": "stream",
     "text": [
      "        State   Language  Population Per Capita Income\n",
      "a     Gujarat   Gujarati          36               NaN\n",
      "b  Tamil Nadu      Tamil          44               NaN\n",
      "c      Andhra     Telugu          67               NaN\n",
      "d   Karnataka    Kannada          89               NaN\n",
      "e      Kerala  Malayalam          34               NaN\n"
     ]
    }
   ],
   "source": [
    "print(new_frame)"
   ]
  },
  {
   "cell_type": "markdown",
   "metadata": {},
   "source": [
    "## Reindex "
   ]
  },
  {
   "cell_type": "code",
   "execution_count": 75,
   "metadata": {},
   "outputs": [
    {
     "data": {
      "text/plain": [
       "5    Python\n",
       "4      Java\n",
       "3         c\n",
       "2       c++\n",
       "1       Php\n",
       "dtype: object"
      ]
     },
     "execution_count": 75,
     "metadata": {},
     "output_type": "execute_result"
    }
   ],
   "source": [
    "var = pd.Series(['Python', 'Java', 'c', 'c++', 'Php'], index =[5,4,3,2,1]) \n",
    "\n",
    "\n",
    "\n"
   ]
  },
  {
   "cell_type": "code",
   "execution_count": 77,
   "metadata": {},
   "outputs": [
    {
     "name": "stdout",
     "output_type": "stream",
     "text": [
      "5    Python\n",
      "4      Java\n",
      "3         c\n",
      "2       c++\n",
      "1       Php\n",
      "dtype: object\n"
     ]
    }
   ],
   "source": [
    "print(var) \n",
    "var1 = var.reindex([1,2,3,4,5])  # reindex creates a new object  print(var1) \n"
   ]
  },
  {
   "cell_type": "code",
   "execution_count": 78,
   "metadata": {},
   "outputs": [
    {
     "name": "stdout",
     "output_type": "stream",
     "text": [
      "1       Php\n",
      "2       c++\n",
      "3         c\n",
      "4      Java\n",
      "5    Python\n",
      "dtype: object\n"
     ]
    }
   ],
   "source": [
    "print(var1)"
   ]
  },
  {
   "cell_type": "code",
   "execution_count": 79,
   "metadata": {},
   "outputs": [
    {
     "name": "stdout",
     "output_type": "stream",
     "text": [
      "1       Php\n",
      "2       c++\n",
      "3         c\n",
      "4      Java\n",
      "5    Python\n",
      "6       NaN\n",
      "7       NaN\n",
      "dtype: object\n"
     ]
    }
   ],
   "source": [
    "\n",
    "print(var.reindex([1,2,3,4,5,6,7]))  # introduces new indexes with values Nan "
   ]
  },
  {
   "cell_type": "code",
   "execution_count": 80,
   "metadata": {},
   "outputs": [
    {
     "name": "stdout",
     "output_type": "stream",
     "text": [
      "1       Php\n",
      "2       c++\n",
      "3         c\n",
      "4      Java\n",
      "5    Python\n",
      "6         1\n",
      "7         1\n",
      "dtype: object\n"
     ]
    }
   ],
   "source": [
    "print(var.reindex([1,2,3,4,5,6,7], fill_value =1))     \n",
    "\n"
   ]
  },
  {
   "cell_type": "code",
   "execution_count": 98,
   "metadata": {},
   "outputs": [
    {
     "name": "stdout",
     "output_type": "stream",
     "text": [
      "0     Dhoni\n",
      "2    Sachin\n",
      "4     Kohli\n",
      "dtype: object\n"
     ]
    }
   ],
   "source": [
    "gh = pd.Series(['Dhoni', 'Sachin', 'Kohli'], index =[0,2,4]) \n",
    "print(gh)\n"
   ]
  },
  {
   "cell_type": "code",
   "execution_count": 99,
   "metadata": {},
   "outputs": [
    {
     "name": "stdout",
     "output_type": "stream",
     "text": [
      "0     Dhoni\n",
      "1     Dhoni\n",
      "2    Sachin\n",
      "3    Sachin\n",
      "4     Kohli\n",
      "5     Kohli\n",
      "dtype: object\n"
     ]
    }
   ],
   "source": [
    "\n",
    "print(gh.reindex(range(6), method ='ffill')) #ffill is forward fill. It forward fills the values "
   ]
  },
  {
   "cell_type": "code",
   "execution_count": 100,
   "metadata": {},
   "outputs": [
    {
     "name": "stdout",
     "output_type": "stream",
     "text": [
      "0     Dhoni\n",
      "1    Sachin\n",
      "2    Sachin\n",
      "3     Kohli\n",
      "4     Kohli\n",
      "5       NaN\n",
      "dtype: object\n"
     ]
    }
   ],
   "source": [
    "print(gh.reindex(range(6), method ='bfill'))# bfill, backward fills the values \n"
   ]
  },
  {
   "cell_type": "code",
   "execution_count": 102,
   "metadata": {},
   "outputs": [
    {
     "name": "stdout",
     "output_type": "stream",
     "text": [
      "   Gujarat  Tamil Nadu  Kerala\n",
      "a        0           1       2\n",
      "b        3           4       5\n",
      "c        6           7       8\n"
     ]
    }
   ],
   "source": [
    "\n",
    "fp = pd.DataFrame(np.arange(9).reshape((3,3)),index =['a','b','c'], columns =['Gujarat','Tamil Nadu', 'Kerala']) \n",
    "\n",
    "print(fp) \n"
   ]
  },
  {
   "cell_type": "markdown",
   "metadata": {},
   "source": [
    "\n",
    "## Dropping entries from an axis \n",
    "\n"
   ]
  },
  {
   "cell_type": "code",
   "execution_count": 116,
   "metadata": {},
   "outputs": [
    {
     "name": "stdout",
     "output_type": "stream",
     "text": [
      "a    0\n",
      "b    1\n",
      "c    2\n",
      "d    3\n",
      "e    4\n",
      "dtype: int32\n",
      "c    2\n",
      "d    3\n",
      "e    4\n",
      "dtype: int32\n"
     ]
    }
   ],
   "source": [
    "er = pd.Series(np.arange(5), index =['a','b','c','d','e']) \n",
    "print(er) \n",
    "temp = er.drop(['a','b']) #drop - method will return a new object  with values deleted from an axis \n",
    "print(temp)"
   ]
  },
  {
   "cell_type": "code",
   "execution_count": 128,
   "metadata": {},
   "outputs": [],
   "source": [
    "states ={'State' :['Gujarat', 'Tamil Nadu', ' Andhra', 'Karnataka', 'Kerala'], \n",
    "                  'Population': [36, 44, 67,89,34], \n",
    "                  'Language' :['Gujarati', 'Tamil', 'Telugu', 'Kannada', 'Malayalam']} \n",
    "\n",
    "india = pd.DataFrame(states, columns =['State', 'Population', 'Language']) "
   ]
  },
  {
   "cell_type": "code",
   "execution_count": 129,
   "metadata": {},
   "outputs": [
    {
     "name": "stdout",
     "output_type": "stream",
     "text": [
      "        State  Population   Language\n",
      "0     Gujarat          36   Gujarati\n",
      "1  Tamil Nadu          44      Tamil\n",
      "2      Andhra          67     Telugu\n",
      "3   Karnataka          89    Kannada\n",
      "4      Kerala          34  Malayalam\n"
     ]
    }
   ],
   "source": [
    "print(india)"
   ]
  },
  {
   "cell_type": "code",
   "execution_count": 130,
   "metadata": {},
   "outputs": [],
   "source": [
    "\n",
    "temp2 = india.drop([0,1])# will drop index 0 and 1 "
   ]
  },
  {
   "cell_type": "code",
   "execution_count": 131,
   "metadata": {},
   "outputs": [
    {
     "name": "stdout",
     "output_type": "stream",
     "text": [
      "       State  Population   Language\n",
      "2     Andhra          67     Telugu\n",
      "3  Karnataka          89    Kannada\n",
      "4     Kerala          34  Malayalam\n"
     ]
    }
   ],
   "source": [
    "print(temp2)"
   ]
  },
  {
   "cell_type": "code",
   "execution_count": 134,
   "metadata": {},
   "outputs": [
    {
     "name": "stdout",
     "output_type": "stream",
     "text": [
      "        State  Population   Language\n",
      "0     Gujarat          36   Gujarati\n",
      "1  Tamil Nadu          44      Tamil\n",
      "2      Andhra          67     Telugu\n",
      "3   Karnataka          89    Kannada\n",
      "4      Kerala          34  Malayalam\n"
     ]
    }
   ],
   "source": [
    "dropInAxis1 = india.drop(['State', 'Population'], axis =1 ) # the function dropped population and state columns. Apply the same concept with axis =0 \n",
    "print(india)\n"
   ]
  },
  {
   "cell_type": "code",
   "execution_count": 133,
   "metadata": {},
   "outputs": [
    {
     "name": "stdout",
     "output_type": "stream",
     "text": [
      "    Language\n",
      "0   Gujarati\n",
      "1      Tamil\n",
      "2     Telugu\n",
      "3    Kannada\n",
      "4  Malayalam\n"
     ]
    }
   ],
   "source": [
    "print(dropInAxis1)"
   ]
  },
  {
   "cell_type": "code",
   "execution_count": 137,
   "metadata": {},
   "outputs": [
    {
     "name": "stdout",
     "output_type": "stream",
     "text": [
      "        State  Population   Language\n",
      "0     Gujarat          36   Gujarati\n",
      "1  Tamil Nadu          44      Tamil\n",
      "2      Andhra          67     Telugu\n",
      "3   Karnataka          89    Kannada\n",
      "4      Kerala          34  Malayalam\n"
     ]
    }
   ],
   "source": [
    "print(india)"
   ]
  },
  {
   "cell_type": "code",
   "execution_count": 139,
   "metadata": {},
   "outputs": [
    {
     "name": "stdout",
     "output_type": "stream",
     "text": [
      "    State  Population   Language\n",
      "4  Kerala          34  Malayalam\n"
     ]
    }
   ],
   "source": [
    "dropInAxis0 = india.drop([0,1,2,3], axis =0 ) # Apply the same concept with axis =0 \n",
    "\n",
    "print(dropInAxis0)"
   ]
  },
  {
   "cell_type": "markdown",
   "metadata": {},
   "source": [
    "## Selection, Indexing and Filtering "
   ]
  },
  {
   "cell_type": "code",
   "execution_count": 140,
   "metadata": {},
   "outputs": [
    {
     "name": "stdout",
     "output_type": "stream",
     "text": [
      "5    Python\n",
      "4      Java\n",
      "3         c\n",
      "2       c++\n",
      "1       Php\n",
      "dtype: object\n"
     ]
    }
   ],
   "source": [
    "var = pd.Series(['Python', 'Java', 'c', 'c++', 'Php'], index =[5,4,3,2,1])\n",
    "print(var) \n",
    "\n",
    "\n",
    "\n"
   ]
  },
  {
   "cell_type": "code",
   "execution_count": 141,
   "metadata": {},
   "outputs": [
    {
     "name": "stdout",
     "output_type": "stream",
     "text": [
      "3      c\n",
      "2    c++\n",
      "dtype: object\n"
     ]
    }
   ],
   "source": [
    "print(var[2:4]) "
   ]
  },
  {
   "cell_type": "code",
   "execution_count": 152,
   "metadata": {},
   "outputs": [
    {
     "name": "stdout",
     "output_type": "stream",
     "text": [
      "[3, 4]\n"
     ]
    }
   ],
   "source": [
    "li = [1,2,3,4,5,6,7,8,9,10]\n",
    "\n",
    "print(li[2:4])\n"
   ]
  },
  {
   "cell_type": "code",
   "execution_count": 153,
   "metadata": {},
   "outputs": [
    {
     "name": "stdout",
     "output_type": "stream",
     "text": [
      "       State  Population Language\n",
      "2     Andhra          67   Telugu\n",
      "3  Karnataka          89  Kannada\n"
     ]
    }
   ],
   "source": [
    "print(india[india['Population'] > 50]) # returns data for population greater than 50 "
   ]
  },
  {
   "cell_type": "code",
   "execution_count": null,
   "metadata": {},
   "outputs": [],
   "source": []
  }
 ],
 "metadata": {
  "kernelspec": {
   "display_name": "Python 3",
   "language": "python",
   "name": "python3"
  },
  "language_info": {
   "codemirror_mode": {
    "name": "ipython",
    "version": 3
   },
   "file_extension": ".py",
   "mimetype": "text/x-python",
   "name": "python",
   "nbconvert_exporter": "python",
   "pygments_lexer": "ipython3",
   "version": "3.7.1"
  }
 },
 "nbformat": 4,
 "nbformat_minor": 2
}
