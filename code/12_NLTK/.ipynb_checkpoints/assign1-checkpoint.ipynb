{
 "cells": [
  {
   "cell_type": "code",
   "execution_count": 1,
   "metadata": {},
   "outputs": [],
   "source": [
    "data1 = open('modelans.txt','r')\n",
    "data2 = open('studentans.txt','r')\n",
    "teach = data1.read()\n",
    "stud = data2.read()"
   ]
  },
  {
   "cell_type": "code",
   "execution_count": 6,
   "metadata": {},
   "outputs": [],
   "source": [
    "data3 = open('stopwords.txt','r')\n",
    "stop = data3.read()"
   ]
  },
  {
   "cell_type": "code",
   "execution_count": 18,
   "metadata": {},
   "outputs": [],
   "source": [
    "stopwords = stop.strip().split()"
   ]
  },
  {
   "cell_type": "code",
   "execution_count": 19,
   "metadata": {},
   "outputs": [],
   "source": [
    "teach_list = teach.strip().split()\n",
    "stud_list = stud.strip().split()"
   ]
  },
  {
   "cell_type": "code",
   "execution_count": 20,
   "metadata": {},
   "outputs": [
    {
     "data": {
      "text/plain": [
       "361"
      ]
     },
     "execution_count": 20,
     "metadata": {},
     "output_type": "execute_result"
    }
   ],
   "source": [
    "len(stud_list)"
   ]
  },
  {
   "cell_type": "code",
   "execution_count": 21,
   "metadata": {},
   "outputs": [
    {
     "data": {
      "text/plain": [
       "422"
      ]
     },
     "execution_count": 21,
     "metadata": {},
     "output_type": "execute_result"
    }
   ],
   "source": [
    "len(teach_list)"
   ]
  },
  {
   "cell_type": "code",
   "execution_count": 22,
   "metadata": {},
   "outputs": [
    {
     "name": "stdout",
     "output_type": "stream",
     "text": [
      "149\n"
     ]
    }
   ],
   "source": [
    "cnt=0\n",
    "for w in teach_list:\n",
    "    if w in stopwords:\n",
    "        cnt = cnt+1\n",
    "print(cnt)"
   ]
  },
  {
   "cell_type": "code",
   "execution_count": 30,
   "metadata": {},
   "outputs": [],
   "source": [
    "teacher = []\n",
    "student = []"
   ]
  },
  {
   "cell_type": "code",
   "execution_count": 31,
   "metadata": {},
   "outputs": [],
   "source": [
    "for w in teach_list:\n",
    "    if w not in stopwords:\n",
    "        teacher.append(w.lower())"
   ]
  },
  {
   "cell_type": "code",
   "execution_count": 32,
   "metadata": {},
   "outputs": [
    {
     "data": {
      "text/plain": [
       "273"
      ]
     },
     "execution_count": 32,
     "metadata": {},
     "output_type": "execute_result"
    }
   ],
   "source": [
    "len(teacher)"
   ]
  },
  {
   "cell_type": "code",
   "execution_count": 33,
   "metadata": {},
   "outputs": [
    {
     "data": {
      "text/plain": [
       "['machine',\n",
       " 'learning',\n",
       " 'application',\n",
       " 'artificial',\n",
       " 'intelligence',\n",
       " '(ai)',\n",
       " 'provides',\n",
       " 'systems',\n",
       " 'ability',\n",
       " 'automatically',\n",
       " 'learn',\n",
       " 'improve',\n",
       " 'experience',\n",
       " 'without',\n",
       " 'explicitly',\n",
       " 'programmed.',\n",
       " 'machine',\n",
       " 'learning',\n",
       " 'focuses',\n",
       " 'development',\n",
       " 'computer',\n",
       " 'programs',\n",
       " 'access',\n",
       " 'data',\n",
       " 'use',\n",
       " 'learn',\n",
       " 'themselves.',\n",
       " 'the',\n",
       " 'process',\n",
       " 'learning',\n",
       " 'begins',\n",
       " 'observations',\n",
       " 'data,',\n",
       " 'examples,',\n",
       " 'direct',\n",
       " 'experience,',\n",
       " 'instruction,',\n",
       " 'order',\n",
       " 'look',\n",
       " 'patterns',\n",
       " 'data',\n",
       " 'make',\n",
       " 'better',\n",
       " 'decisions',\n",
       " 'future',\n",
       " 'based',\n",
       " 'examples',\n",
       " 'provide.',\n",
       " 'the',\n",
       " 'primary',\n",
       " 'aim',\n",
       " 'allow',\n",
       " 'computers',\n",
       " 'learn',\n",
       " 'automatically',\n",
       " 'without',\n",
       " 'human',\n",
       " 'intervention',\n",
       " 'assistance',\n",
       " 'adjust',\n",
       " 'actions',\n",
       " 'accordingly.',\n",
       " 'some',\n",
       " 'machine',\n",
       " 'learning',\n",
       " 'methods',\n",
       " 'machine',\n",
       " 'learning',\n",
       " 'algorithms',\n",
       " 'often',\n",
       " 'categorized',\n",
       " 'supervised',\n",
       " 'unsupervised.',\n",
       " 'supervised',\n",
       " 'machine',\n",
       " 'learning',\n",
       " 'algorithms',\n",
       " 'apply',\n",
       " 'learned',\n",
       " 'past',\n",
       " 'new',\n",
       " 'data',\n",
       " 'using',\n",
       " 'labeled',\n",
       " 'examples',\n",
       " 'predict',\n",
       " 'future',\n",
       " 'events.',\n",
       " 'starting',\n",
       " 'analysis',\n",
       " 'known',\n",
       " 'training',\n",
       " 'dataset,',\n",
       " 'learning',\n",
       " 'algorithm',\n",
       " 'produces',\n",
       " 'inferred',\n",
       " 'function',\n",
       " 'make',\n",
       " 'predictions',\n",
       " 'output',\n",
       " 'values.',\n",
       " 'the',\n",
       " 'system',\n",
       " 'able',\n",
       " 'provide',\n",
       " 'targets',\n",
       " 'new',\n",
       " 'input',\n",
       " 'sufficient',\n",
       " 'training.',\n",
       " 'the',\n",
       " 'learning',\n",
       " 'algorithm',\n",
       " 'also',\n",
       " 'compare',\n",
       " 'output',\n",
       " 'correct,',\n",
       " 'intended',\n",
       " 'output',\n",
       " 'find',\n",
       " 'errors',\n",
       " 'order',\n",
       " 'modify',\n",
       " 'model',\n",
       " 'accordingly.',\n",
       " 'in',\n",
       " 'contrast,',\n",
       " 'unsupervised',\n",
       " 'machine',\n",
       " 'learning',\n",
       " 'algorithms',\n",
       " 'used',\n",
       " 'information',\n",
       " 'used',\n",
       " 'train',\n",
       " 'neither',\n",
       " 'classified',\n",
       " 'labeled.',\n",
       " 'unsupervised',\n",
       " 'learning',\n",
       " 'studies',\n",
       " 'systems',\n",
       " 'infer',\n",
       " 'function',\n",
       " 'describe',\n",
       " 'hidden',\n",
       " 'structure',\n",
       " 'unlabeled',\n",
       " 'data.',\n",
       " 'the',\n",
       " 'system',\n",
       " 'doesnâ€™t',\n",
       " 'figure',\n",
       " 'right',\n",
       " 'output,',\n",
       " 'explores',\n",
       " 'data',\n",
       " 'draw',\n",
       " 'inferences',\n",
       " 'datasets',\n",
       " 'describe',\n",
       " 'hidden',\n",
       " 'structures',\n",
       " 'unlabeled',\n",
       " 'data.',\n",
       " 'semi-supervised',\n",
       " 'machine',\n",
       " 'learning',\n",
       " 'algorithms',\n",
       " 'fall',\n",
       " 'somewhere',\n",
       " 'supervised',\n",
       " 'unsupervised',\n",
       " 'learning,',\n",
       " 'since',\n",
       " 'use',\n",
       " 'labeled',\n",
       " 'unlabeled',\n",
       " 'data',\n",
       " 'training',\n",
       " 'â€“',\n",
       " 'typically',\n",
       " 'small',\n",
       " 'amount',\n",
       " 'labeled',\n",
       " 'data',\n",
       " 'large',\n",
       " 'amount',\n",
       " 'unlabeled',\n",
       " 'data.',\n",
       " 'the',\n",
       " 'systems',\n",
       " 'use',\n",
       " 'method',\n",
       " 'able',\n",
       " 'considerably',\n",
       " 'improve',\n",
       " 'learning',\n",
       " 'accuracy.',\n",
       " 'usually,',\n",
       " 'semi-supervised',\n",
       " 'learning',\n",
       " 'chosen',\n",
       " 'acquired',\n",
       " 'labeled',\n",
       " 'data',\n",
       " 'requires',\n",
       " 'skilled',\n",
       " 'relevant',\n",
       " 'resources',\n",
       " 'order',\n",
       " 'train',\n",
       " '/',\n",
       " 'learn',\n",
       " 'it.',\n",
       " 'otherwise,',\n",
       " 'acquiringunlabeled',\n",
       " 'data',\n",
       " 'generally',\n",
       " 'doesnâ€™t',\n",
       " 'require',\n",
       " 'additional',\n",
       " 'resources.',\n",
       " 'reinforcement',\n",
       " 'machine',\n",
       " 'learning',\n",
       " 'algorithms',\n",
       " 'learning',\n",
       " 'method',\n",
       " 'interacts',\n",
       " 'environment',\n",
       " 'producing',\n",
       " 'actions',\n",
       " 'discovers',\n",
       " 'errors',\n",
       " 'rewards.',\n",
       " 'trial',\n",
       " 'error',\n",
       " 'search',\n",
       " 'delayed',\n",
       " 'reward',\n",
       " 'relevant',\n",
       " 'characteristics',\n",
       " 'reinforcement',\n",
       " 'learning.',\n",
       " 'this',\n",
       " 'method',\n",
       " 'allows',\n",
       " 'machines',\n",
       " 'software',\n",
       " 'agents',\n",
       " 'automatically',\n",
       " 'determine',\n",
       " 'ideal',\n",
       " 'behavior',\n",
       " 'within',\n",
       " 'specific',\n",
       " 'context',\n",
       " 'order',\n",
       " 'maximize',\n",
       " 'performance.',\n",
       " 'simple',\n",
       " 'reward',\n",
       " 'feedback',\n",
       " 'required',\n",
       " 'agent',\n",
       " 'learn',\n",
       " 'action',\n",
       " 'best;',\n",
       " 'known',\n",
       " 'reinforcement',\n",
       " 'signal.']"
      ]
     },
     "execution_count": 33,
     "metadata": {},
     "output_type": "execute_result"
    }
   ],
   "source": [
    "teacher"
   ]
  },
  {
   "cell_type": "code",
   "execution_count": 34,
   "metadata": {},
   "outputs": [],
   "source": [
    "for w in stud_list:\n",
    "    if w not in stopwords:\n",
    "        student.append(w.lower())"
   ]
  },
  {
   "cell_type": "code",
   "execution_count": 36,
   "metadata": {},
   "outputs": [
    {
     "data": {
      "text/plain": [
       "226"
      ]
     },
     "execution_count": 36,
     "metadata": {},
     "output_type": "execute_result"
    }
   ],
   "source": [
    "len(student)"
   ]
  },
  {
   "cell_type": "code",
   "execution_count": 37,
   "metadata": {},
   "outputs": [],
   "source": [
    "from nltk.stem.porter import *\n",
    "a = ['playing','played','plays']\n",
    "stemmer = PorterStemmer()\n",
    "li = [stemmer.stem(w)for w in a]"
   ]
  },
  {
   "cell_type": "code",
   "execution_count": 38,
   "metadata": {},
   "outputs": [
    {
     "data": {
      "text/plain": [
       "['play', 'play', 'play']"
      ]
     },
     "execution_count": 38,
     "metadata": {},
     "output_type": "execute_result"
    }
   ],
   "source": [
    "li"
   ]
  },
  {
   "cell_type": "code",
   "execution_count": null,
   "metadata": {},
   "outputs": [],
   "source": []
  }
 ],
 "metadata": {
  "kernelspec": {
   "display_name": "Python 3",
   "language": "python",
   "name": "python3"
  },
  "language_info": {
   "codemirror_mode": {
    "name": "ipython",
    "version": 3
   },
   "file_extension": ".py",
   "mimetype": "text/x-python",
   "name": "python",
   "nbconvert_exporter": "python",
   "pygments_lexer": "ipython3",
   "version": "3.6.5"
  }
 },
 "nbformat": 4,
 "nbformat_minor": 2
}
