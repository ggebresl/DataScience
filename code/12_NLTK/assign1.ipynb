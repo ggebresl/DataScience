{
 "cells": [
  {
   "cell_type": "code",
   "execution_count": 1,
   "metadata": {},
   "outputs": [],
   "source": [
    "data1 = open('modelans.txt','r')\n",
    "data2 = open('studentans.txt','r')\n",
    "teach = data1.read()\n",
    "stud = data2.read()"
   ]
  },
  {
   "cell_type": "code",
   "execution_count": 6,
   "metadata": {},
   "outputs": [],
   "source": [
    "data3 = open('stopwords.txt','r')\n",
    "stop = data3.read()"
   ]
  },
  {
   "cell_type": "code",
   "execution_count": 18,
   "metadata": {},
   "outputs": [],
   "source": [
    "stopwords = stop.strip().split()"
   ]
  },
  {
   "cell_type": "code",
   "execution_count": 19,
   "metadata": {},
   "outputs": [],
   "source": [
    "teach_list = teach.strip().split()\n",
    "stud_list = stud.strip().split()"
   ]
  },
  {
   "cell_type": "code",
   "execution_count": 20,
   "metadata": {},
   "outputs": [
    {
     "data": {
      "text/plain": [
       "361"
      ]
     },
     "execution_count": 20,
     "metadata": {},
     "output_type": "execute_result"
    }
   ],
   "source": [
    "len(stud_list)"
   ]
  },
  {
   "cell_type": "code",
   "execution_count": 21,
   "metadata": {},
   "outputs": [
    {
     "data": {
      "text/plain": [
       "422"
      ]
     },
     "execution_count": 21,
     "metadata": {},
     "output_type": "execute_result"
    }
   ],
   "source": [
    "len(teach_list)"
   ]
  },
  {
   "cell_type": "code",
   "execution_count": 22,
   "metadata": {},
   "outputs": [
    {
     "name": "stdout",
     "output_type": "stream",
     "text": [
      "149\n"
     ]
    }
   ],
   "source": [
    "cnt=0\n",
    "for w in teach_list:\n",
    "    if w in stopwords:\n",
    "        cnt = cnt+1\n",
    "print(cnt)"
   ]
  },
  {
   "cell_type": "code",
   "execution_count": 30,
   "metadata": {},
   "outputs": [],
   "source": [
    "teacher = []\n",
    "student = []"
   ]
  },
  {
   "cell_type": "code",
   "execution_count": 31,
   "metadata": {},
   "outputs": [],
   "source": [
    "for w in teach_list:\n",
    "    if w not in stopwords:\n",
    "        teacher.append(w.lower())"
   ]
  },
  {
   "cell_type": "code",
   "execution_count": 32,
   "metadata": {},
   "outputs": [
    {
     "data": {
      "text/plain": [
       "273"
      ]
     },
     "execution_count": 32,
     "metadata": {},
     "output_type": "execute_result"
    }
   ],
   "source": [
    "len(teacher)"
   ]
  },
  {
   "cell_type": "code",
   "execution_count": 33,
   "metadata": {},
   "outputs": [
    {
     "data": {
      "text/plain": [
       "['machine',\n",
       " 'learning',\n",
       " 'application',\n",
       " 'artificial',\n",
       " 'intelligence',\n",
       " '(ai)',\n",
       " 'provides',\n",
       " 'systems',\n",
       " 'ability',\n",
       " 'automatically',\n",
       " 'learn',\n",
       " 'improve',\n",
       " 'experience',\n",
       " 'without',\n",
       " 'explicitly',\n",
       " 'programmed.',\n",
       " 'machine',\n",
       " 'learning',\n",
       " 'focuses',\n",
       " 'development',\n",
       " 'computer',\n",
       " 'programs',\n",
       " 'access',\n",
       " 'data',\n",
       " 'use',\n",
       " 'learn',\n",
       " 'themselves.',\n",
       " 'the',\n",
       " 'process',\n",
       " 'learning',\n",
       " 'begins',\n",
       " 'observations',\n",
       " 'data,',\n",
       " 'examples,',\n",
       " 'direct',\n",
       " 'experience,',\n",
       " 'instruction,',\n",
       " 'order',\n",
       " 'look',\n",
       " 'patterns',\n",
       " 'data',\n",
       " 'make',\n",
       " 'better',\n",
       " 'decisions',\n",
       " 'future',\n",
       " 'based',\n",
       " 'examples',\n",
       " 'provide.',\n",
       " 'the',\n",
       " 'primary',\n",
       " 'aim',\n",
       " 'allow',\n",
       " 'computers',\n",
       " 'learn',\n",
       " 'automatically',\n",
       " 'without',\n",
       " 'human',\n",
       " 'intervention',\n",
       " 'assistance',\n",
       " 'adjust',\n",
       " 'actions',\n",
       " 'accordingly.',\n",
       " 'some',\n",
       " 'machine',\n",
       " 'learning',\n",
       " 'methods',\n",
       " 'machine',\n",
       " 'learning',\n",
       " 'algorithms',\n",
       " 'often',\n",
       " 'categorized',\n",
       " 'supervised',\n",
       " 'unsupervised.',\n",
       " 'supervised',\n",
       " 'machine',\n",
       " 'learning',\n",
       " 'algorithms',\n",
       " 'apply',\n",
       " 'learned',\n",
       " 'past',\n",
       " 'new',\n",
       " 'data',\n",
       " 'using',\n",
       " 'labeled',\n",
       " 'examples',\n",
       " 'predict',\n",
       " 'future',\n",
       " 'events.',\n",
       " 'starting',\n",
       " 'analysis',\n",
       " 'known',\n",
       " 'training',\n",
       " 'dataset,',\n",
       " 'learning',\n",
       " 'algorithm',\n",
       " 'produces',\n",
       " 'inferred',\n",
       " 'function',\n",
       " 'make',\n",
       " 'predictions',\n",
       " 'output',\n",
       " 'values.',\n",
       " 'the',\n",
       " 'system',\n",
       " 'able',\n",
       " 'provide',\n",
       " 'targets',\n",
       " 'new',\n",
       " 'input',\n",
       " 'sufficient',\n",
       " 'training.',\n",
       " 'the',\n",
       " 'learning',\n",
       " 'algorithm',\n",
       " 'also',\n",
       " 'compare',\n",
       " 'output',\n",
       " 'correct,',\n",
       " 'intended',\n",
       " 'output',\n",
       " 'find',\n",
       " 'errors',\n",
       " 'order',\n",
       " 'modify',\n",
       " 'model',\n",
       " 'accordingly.',\n",
       " 'in',\n",
       " 'contrast,',\n",
       " 'unsupervised',\n",
       " 'machine',\n",
       " 'learning',\n",
       " 'algorithms',\n",
       " 'used',\n",
       " 'information',\n",
       " 'used',\n",
       " 'train',\n",
       " 'neither',\n",
       " 'classified',\n",
       " 'labeled.',\n",
       " 'unsupervised',\n",
       " 'learning',\n",
       " 'studies',\n",
       " 'systems',\n",
       " 'infer',\n",
       " 'function',\n",
       " 'describe',\n",
       " 'hidden',\n",
       " 'structure',\n",
       " 'unlabeled',\n",
       " 'data.',\n",
       " 'the',\n",
       " 'system',\n",
       " 'doesnâ€™t',\n",
       " 'figure',\n",
       " 'right',\n",
       " 'output,',\n",
       " 'explores',\n",
       " 'data',\n",
       " 'draw',\n",
       " 'inferences',\n",
       " 'datasets',\n",
       " 'describe',\n",
       " 'hidden',\n",
       " 'structures',\n",
       " 'unlabeled',\n",
       " 'data.',\n",
       " 'semi-supervised',\n",
       " 'machine',\n",
       " 'learning',\n",
       " 'algorithms',\n",
       " 'fall',\n",
       " 'somewhere',\n",
       " 'supervised',\n",
       " 'unsupervised',\n",
       " 'learning,',\n",
       " 'since',\n",
       " 'use',\n",
       " 'labeled',\n",
       " 'unlabeled',\n",
       " 'data',\n",
       " 'training',\n",
       " 'â€“',\n",
       " 'typically',\n",
       " 'small',\n",
       " 'amount',\n",
       " 'labeled',\n",
       " 'data',\n",
       " 'large',\n",
       " 'amount',\n",
       " 'unlabeled',\n",
       " 'data.',\n",
       " 'the',\n",
       " 'systems',\n",
       " 'use',\n",
       " 'method',\n",
       " 'able',\n",
       " 'considerably',\n",
       " 'improve',\n",
       " 'learning',\n",
       " 'accuracy.',\n",
       " 'usually,',\n",
       " 'semi-supervised',\n",
       " 'learning',\n",
       " 'chosen',\n",
       " 'acquired',\n",
       " 'labeled',\n",
       " 'data',\n",
       " 'requires',\n",
       " 'skilled',\n",
       " 'relevant',\n",
       " 'resources',\n",
       " 'order',\n",
       " 'train',\n",
       " '/',\n",
       " 'learn',\n",
       " 'it.',\n",
       " 'otherwise,',\n",
       " 'acquiringunlabeled',\n",
       " 'data',\n",
       " 'generally',\n",
       " 'doesnâ€™t',\n",
       " 'require',\n",
       " 'additional',\n",
       " 'resources.',\n",
       " 'reinforcement',\n",
       " 'machine',\n",
       " 'learning',\n",
       " 'algorithms',\n",
       " 'learning',\n",
       " 'method',\n",
       " 'interacts',\n",
       " 'environment',\n",
       " 'producing',\n",
       " 'actions',\n",
       " 'discovers',\n",
       " 'errors',\n",
       " 'rewards.',\n",
       " 'trial',\n",
       " 'error',\n",
       " 'search',\n",
       " 'delayed',\n",
       " 'reward',\n",
       " 'relevant',\n",
       " 'characteristics',\n",
       " 'reinforcement',\n",
       " 'learning.',\n",
       " 'this',\n",
       " 'method',\n",
       " 'allows',\n",
       " 'machines',\n",
       " 'software',\n",
       " 'agents',\n",
       " 'automatically',\n",
       " 'determine',\n",
       " 'ideal',\n",
       " 'behavior',\n",
       " 'within',\n",
       " 'specific',\n",
       " 'context',\n",
       " 'order',\n",
       " 'maximize',\n",
       " 'performance.',\n",
       " 'simple',\n",
       " 'reward',\n",
       " 'feedback',\n",
       " 'required',\n",
       " 'agent',\n",
       " 'learn',\n",
       " 'action',\n",
       " 'best;',\n",
       " 'known',\n",
       " 'reinforcement',\n",
       " 'signal.']"
      ]
     },
     "execution_count": 33,
     "metadata": {},
     "output_type": "execute_result"
    }
   ],
   "source": [
    "teacher"
   ]
  },
  {
   "cell_type": "code",
   "execution_count": 34,
   "metadata": {},
   "outputs": [],
   "source": [
    "for w in stud_list:\n",
    "    if w not in stopwords:\n",
    "        student.append(w.lower())"
   ]
  },
  {
   "cell_type": "code",
   "execution_count": 36,
   "metadata": {},
   "outputs": [
    {
     "data": {
      "text/plain": [
       "226"
      ]
     },
     "execution_count": 36,
     "metadata": {},
     "output_type": "execute_result"
    }
   ],
   "source": [
    "len(student)"
   ]
  },
  {
   "cell_type": "code",
   "execution_count": 39,
   "metadata": {},
   "outputs": [],
   "source": [
    "from nltk.stem.porter import *\n",
    "stemmer = PorterStemmer()\n",
    "teach_stem = [stemmer.stem(w)for w in teacher]"
   ]
  },
  {
   "cell_type": "code",
   "execution_count": 40,
   "metadata": {},
   "outputs": [],
   "source": [
    "stud_stem = [stemmer.stem(w)for w in student]"
   ]
  },
  {
   "cell_type": "code",
   "execution_count": 41,
   "metadata": {},
   "outputs": [
    {
     "data": {
      "text/plain": [
       "['machin',\n",
       " 'learn',\n",
       " 'applic',\n",
       " 'artifici',\n",
       " 'intellig',\n",
       " '(ai)',\n",
       " 'provid',\n",
       " 'system',\n",
       " 'abil',\n",
       " 'automat',\n",
       " 'learn',\n",
       " 'improv',\n",
       " 'experi',\n",
       " 'without',\n",
       " 'explicitli',\n",
       " 'programmed.',\n",
       " 'machin',\n",
       " 'learn',\n",
       " 'focus',\n",
       " 'develop',\n",
       " 'comput',\n",
       " 'program',\n",
       " 'access',\n",
       " 'data',\n",
       " 'use',\n",
       " 'learn',\n",
       " 'themselves.',\n",
       " 'the',\n",
       " 'process',\n",
       " 'learn',\n",
       " 'begin',\n",
       " 'observ',\n",
       " 'data,',\n",
       " 'examples,',\n",
       " 'direct',\n",
       " 'experience,',\n",
       " 'instruction,',\n",
       " 'order',\n",
       " 'look',\n",
       " 'pattern',\n",
       " 'data',\n",
       " 'make',\n",
       " 'better',\n",
       " 'decis',\n",
       " 'futur',\n",
       " 'base',\n",
       " 'exampl',\n",
       " 'provide.',\n",
       " 'the',\n",
       " 'primari',\n",
       " 'aim',\n",
       " 'allow',\n",
       " 'comput',\n",
       " 'learn',\n",
       " 'automat',\n",
       " 'without',\n",
       " 'human',\n",
       " 'intervent',\n",
       " 'assist',\n",
       " 'adjust',\n",
       " 'action',\n",
       " 'accordingly.',\n",
       " 'some',\n",
       " 'machin',\n",
       " 'learn',\n",
       " 'method',\n",
       " 'machin',\n",
       " 'learn',\n",
       " 'algorithm',\n",
       " 'often',\n",
       " 'categor',\n",
       " 'supervis',\n",
       " 'unsupervised.',\n",
       " 'supervis',\n",
       " 'machin',\n",
       " 'learn',\n",
       " 'algorithm',\n",
       " 'appli',\n",
       " 'learn',\n",
       " 'past',\n",
       " 'new',\n",
       " 'data',\n",
       " 'use',\n",
       " 'label',\n",
       " 'exampl',\n",
       " 'predict',\n",
       " 'futur',\n",
       " 'events.',\n",
       " 'start',\n",
       " 'analysi',\n",
       " 'known',\n",
       " 'train',\n",
       " 'dataset,',\n",
       " 'learn',\n",
       " 'algorithm',\n",
       " 'produc',\n",
       " 'infer',\n",
       " 'function',\n",
       " 'make',\n",
       " 'predict',\n",
       " 'output',\n",
       " 'values.',\n",
       " 'the',\n",
       " 'system',\n",
       " 'abl',\n",
       " 'provid',\n",
       " 'target',\n",
       " 'new',\n",
       " 'input',\n",
       " 'suffici',\n",
       " 'training.',\n",
       " 'the',\n",
       " 'learn',\n",
       " 'algorithm',\n",
       " 'also',\n",
       " 'compar',\n",
       " 'output',\n",
       " 'correct,',\n",
       " 'intend',\n",
       " 'output',\n",
       " 'find',\n",
       " 'error',\n",
       " 'order',\n",
       " 'modifi',\n",
       " 'model',\n",
       " 'accordingly.',\n",
       " 'in',\n",
       " 'contrast,',\n",
       " 'unsupervis',\n",
       " 'machin',\n",
       " 'learn',\n",
       " 'algorithm',\n",
       " 'use',\n",
       " 'inform',\n",
       " 'use',\n",
       " 'train',\n",
       " 'neither',\n",
       " 'classifi',\n",
       " 'labeled.',\n",
       " 'unsupervis',\n",
       " 'learn',\n",
       " 'studi',\n",
       " 'system',\n",
       " 'infer',\n",
       " 'function',\n",
       " 'describ',\n",
       " 'hidden',\n",
       " 'structur',\n",
       " 'unlabel',\n",
       " 'data.',\n",
       " 'the',\n",
       " 'system',\n",
       " 'doesnâ€™t',\n",
       " 'figur',\n",
       " 'right',\n",
       " 'output,',\n",
       " 'explor',\n",
       " 'data',\n",
       " 'draw',\n",
       " 'infer',\n",
       " 'dataset',\n",
       " 'describ',\n",
       " 'hidden',\n",
       " 'structur',\n",
       " 'unlabel',\n",
       " 'data.',\n",
       " 'semi-supervis',\n",
       " 'machin',\n",
       " 'learn',\n",
       " 'algorithm',\n",
       " 'fall',\n",
       " 'somewher',\n",
       " 'supervis',\n",
       " 'unsupervis',\n",
       " 'learning,',\n",
       " 'sinc',\n",
       " 'use',\n",
       " 'label',\n",
       " 'unlabel',\n",
       " 'data',\n",
       " 'train',\n",
       " 'â€“',\n",
       " 'typic',\n",
       " 'small',\n",
       " 'amount',\n",
       " 'label',\n",
       " 'data',\n",
       " 'larg',\n",
       " 'amount',\n",
       " 'unlabel',\n",
       " 'data.',\n",
       " 'the',\n",
       " 'system',\n",
       " 'use',\n",
       " 'method',\n",
       " 'abl',\n",
       " 'consider',\n",
       " 'improv',\n",
       " 'learn',\n",
       " 'accuracy.',\n",
       " 'usually,',\n",
       " 'semi-supervis',\n",
       " 'learn',\n",
       " 'chosen',\n",
       " 'acquir',\n",
       " 'label',\n",
       " 'data',\n",
       " 'requir',\n",
       " 'skill',\n",
       " 'relev',\n",
       " 'resourc',\n",
       " 'order',\n",
       " 'train',\n",
       " '/',\n",
       " 'learn',\n",
       " 'it.',\n",
       " 'otherwise,',\n",
       " 'acquiringunlabel',\n",
       " 'data',\n",
       " 'gener',\n",
       " 'doesnâ€™t',\n",
       " 'requir',\n",
       " 'addit',\n",
       " 'resources.',\n",
       " 'reinforc',\n",
       " 'machin',\n",
       " 'learn',\n",
       " 'algorithm',\n",
       " 'learn',\n",
       " 'method',\n",
       " 'interact',\n",
       " 'environ',\n",
       " 'produc',\n",
       " 'action',\n",
       " 'discov',\n",
       " 'error',\n",
       " 'rewards.',\n",
       " 'trial',\n",
       " 'error',\n",
       " 'search',\n",
       " 'delay',\n",
       " 'reward',\n",
       " 'relev',\n",
       " 'characterist',\n",
       " 'reinforc',\n",
       " 'learning.',\n",
       " 'thi',\n",
       " 'method',\n",
       " 'allow',\n",
       " 'machin',\n",
       " 'softwar',\n",
       " 'agent',\n",
       " 'automat',\n",
       " 'determin',\n",
       " 'ideal',\n",
       " 'behavior',\n",
       " 'within',\n",
       " 'specif',\n",
       " 'context',\n",
       " 'order',\n",
       " 'maxim',\n",
       " 'performance.',\n",
       " 'simpl',\n",
       " 'reward',\n",
       " 'feedback',\n",
       " 'requir',\n",
       " 'agent',\n",
       " 'learn',\n",
       " 'action',\n",
       " 'best;',\n",
       " 'known',\n",
       " 'reinforc',\n",
       " 'signal.']"
      ]
     },
     "execution_count": 41,
     "metadata": {},
     "output_type": "execute_result"
    }
   ],
   "source": [
    "teach_stem"
   ]
  },
  {
   "cell_type": "code",
   "execution_count": 45,
   "metadata": {},
   "outputs": [],
   "source": [
    "unique_teach = []\n",
    "unique_stud = []\n",
    "for i in teach_stem:\n",
    "    if i not in unique_teach:\n",
    "        if i not in stopwords:\n",
    "            unique_teach.append(i)\n",
    "\n",
    "for i in stud_stem:\n",
    "    if i not in unique_teach:\n",
    "        if i not in stopwords:\n",
    "            unique_stud.append(i)"
   ]
  },
  {
   "cell_type": "code",
   "execution_count": 46,
   "metadata": {},
   "outputs": [
    {
     "data": {
      "text/plain": [
       "156"
      ]
     },
     "execution_count": 46,
     "metadata": {},
     "output_type": "execute_result"
    }
   ],
   "source": [
    "len(unique_teach)"
   ]
  },
  {
   "cell_type": "code",
   "execution_count": 47,
   "metadata": {},
   "outputs": [
    {
     "data": {
      "text/plain": [
       "110"
      ]
     },
     "execution_count": 47,
     "metadata": {},
     "output_type": "execute_result"
    }
   ],
   "source": [
    "len(unique_stud)"
   ]
  },
  {
   "cell_type": "code",
   "execution_count": 49,
   "metadata": {},
   "outputs": [],
   "source": [
    "aaa = set(unique_teach)\n",
    "bbb = set(unique_stud)"
   ]
  },
  {
   "cell_type": "code",
   "execution_count": 50,
   "metadata": {},
   "outputs": [
    {
     "data": {
      "text/plain": [
       "156"
      ]
     },
     "execution_count": 50,
     "metadata": {},
     "output_type": "execute_result"
    }
   ],
   "source": [
    "len(aaa)"
   ]
  },
  {
   "cell_type": "code",
   "execution_count": 51,
   "metadata": {},
   "outputs": [
    {
     "data": {
      "text/plain": [
       "97"
      ]
     },
     "execution_count": 51,
     "metadata": {},
     "output_type": "execute_result"
    }
   ],
   "source": [
    "len(bbb)"
   ]
  },
  {
   "cell_type": "code",
   "execution_count": 55,
   "metadata": {},
   "outputs": [],
   "source": [
    "#set(unique_teach) & set(unique_stud)"
   ]
  },
  {
   "cell_type": "code",
   "execution_count": 59,
   "metadata": {},
   "outputs": [
    {
     "name": "stdout",
     "output_type": "stream",
     "text": [
      "set()\n"
     ]
    }
   ],
   "source": [
    "print(aaa.intersection(bbb))"
   ]
  },
  {
   "cell_type": "code",
   "execution_count": null,
   "metadata": {},
   "outputs": [],
   "source": []
  },
  {
   "cell_type": "code",
   "execution_count": null,
   "metadata": {},
   "outputs": [],
   "source": []
  }
 ],
 "metadata": {
  "kernelspec": {
   "display_name": "Python 3",
   "language": "python",
   "name": "python3"
  },
  "language_info": {
   "codemirror_mode": {
    "name": "ipython",
    "version": 3
   },
   "file_extension": ".py",
   "mimetype": "text/x-python",
   "name": "python",
   "nbconvert_exporter": "python",
   "pygments_lexer": "ipython3",
   "version": "3.6.5"
  }
 },
 "nbformat": 4,
 "nbformat_minor": 2
}
