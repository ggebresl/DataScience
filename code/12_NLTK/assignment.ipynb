{
 "cells": [
  {
   "cell_type": "code",
   "execution_count": 1,
   "metadata": {},
   "outputs": [],
   "source": [
    "data1 = open('modelans.txt','r')\n",
    "data2 = open('studentans.txt','r')"
   ]
  },
  {
   "cell_type": "code",
   "execution_count": 2,
   "metadata": {},
   "outputs": [],
   "source": [
    "teacher = data1.read()\n",
    "student = data2.read()"
   ]
  },
  {
   "cell_type": "code",
   "execution_count": 3,
   "metadata": {},
   "outputs": [
    {
     "data": {
      "text/plain": [
       "'Machine learning is an application of artificial intelligence (AI) that provides systems the ability to automatically learn and improve from experience without being explicitly programmed. Machine learning focuses on the development of computer programs that can access data and use it learn for themselves.\\n\\nThe process of learning begins with observations or data, such as examples, direct experience, or instruction, in order to look for patterns in data and make better decisions in the future based on the examples that we provide. The primary aim is to allow the computers learn automatically without human intervention or assistance and adjust actions accordingly.\\nSome machine learning methods\\n\\nMachine learning algorithms are often categorized as supervised or unsupervised.\\n\\n    Supervised machine learning algorithms can apply what has been learned in the past to new data using labeled examples to predict future events. Starting from the analysis of a known training dataset, the learning algorithm produces an inferred function to make predictions about the output values. The system is able to provide targets for any new input after sufficient training. The learning algorithm can also compare its output with the correct, intended output and find errors in order to modify the model accordingly.\\n    In contrast, unsupervised machine learning algorithms are used when the information used to train is neither classified nor labeled. Unsupervised learning studies how systems can infer a function to describe a hidden structure from unlabeled data. The system doesnâ€™t figure out the right output, but it explores the data and can draw inferences from datasets to describe hidden structures from unlabeled data.\\n    Semi-supervised machine learning algorithms fall somewhere in between supervised and unsupervised learning, since they use both labeled and unlabeled data for training â€“ typically a small amount of labeled data and a large amount of unlabeled data. The systems that use this method are able to considerably improve learning accuracy. Usually, semi-supervised learning is chosen when the acquired labeled data requires skilled and relevant resources in order to train it / learn from it. Otherwise, acquiringunlabeled data generally doesnâ€™t require additional resources.\\n    Reinforcement machine learning algorithms is a learning method that interacts with its environment by producing actions and discovers errors or rewards. Trial and error search and delayed reward are the most relevant characteristics of reinforcement learning. This method allows machines and software agents to automatically determine the ideal behavior within a specific context in order to maximize its performance. Simple reward feedback is required for the agent to learn which action is best; this is known as the reinforcement signal.\\n'"
      ]
     },
     "execution_count": 3,
     "metadata": {},
     "output_type": "execute_result"
    }
   ],
   "source": [
    "teacher"
   ]
  },
  {
   "cell_type": "code",
   "execution_count": 4,
   "metadata": {},
   "outputs": [
    {
     "data": {
      "text/plain": [
       "'Machine Learning is a subset of artificial intelligence. It focuses mainly on the designing of systems, thereby allowing them to learn and make predictions based on some experience which is data in case of machines.\\nMachine Learning enables the computers to act and make data-driven decisions rather than being explicitly programmed in order to carry out a certain task. These programs or algorithms are designed to learn and improve over time when exposed to new data.\\n\\nToday machine learning is the core of many Futuristic technological advancements in our world. People around the world are actually interested in learning about What is Machine Learning. Look around you, you will find various examples or implementations of machine learning, such as Teslaâ€™s self-driving cars, Appleâ€™s Siri, Sophia AI Robot and many more.\\n\\nTypes of Machine Leaning\\n\\nMachine learning is sub-categorized to three types:\\n\\n    Supervised Learning â€“ Train Me!\\n    Unsupervised Learning â€“ I am self sufficient in learning\\n    Reinforcement Learning â€“ My life My rules! (Hit & Trial)\\n\\nWhat is Supervised Learning?\\n\\nIt is a process of an algorithm learning from the training dataset. You can think it as a teacher supervising the learning process. Where you know the correct answers but the algorithm iteratively keeps predicting the training data and is corrected by the teacher. This learning stops when the algorithm achieves an acceptable level of performance.\\n\\nWhat is Unsupervised Learning?\\n\\nIn this process of learning, no one supervises the process, there are no correct answers and there is no teacher. Algorithms are left to their own to discover and present the interesting structure in the data.\\n\\nIn the unsupervised learning, the data instances of a training dataset do not have an expected output associated with them. Instead, the algorithm detects patterns based on the original characteristics of the input data. An example of unsupervised learning is clustering. In this, similar data instances are grouped together in order to identify clusters of data.\\n\\nWhat is Reinforcement Learning?\\n\\nReinforcement learning can be thought of as a hit and trial method. A Reward or Penalty point is given for each action. If the machine chooses a correct option it gains the reward point and vice-versa.'"
      ]
     },
     "execution_count": 4,
     "metadata": {},
     "output_type": "execute_result"
    }
   ],
   "source": [
    "student"
   ]
  },
  {
   "cell_type": "code",
   "execution_count": 17,
   "metadata": {},
   "outputs": [],
   "source": [
    "data3 = open('stopwords.txt','r')"
   ]
  },
  {
   "cell_type": "code",
   "execution_count": 33,
   "metadata": {},
   "outputs": [],
   "source": [
    "stop = data3.read()\n",
    "stopwords = stop.strip().split()"
   ]
  },
  {
   "cell_type": "code",
   "execution_count": 34,
   "metadata": {},
   "outputs": [],
   "source": [
    "stud_list = student.strip().split()\n",
    "teach_list = teacher.strip().split()"
   ]
  },
  {
   "cell_type": "code",
   "execution_count": 35,
   "metadata": {},
   "outputs": [],
   "source": [
    "teach_token = []\n",
    "stud_token = []"
   ]
  },
  {
   "cell_type": "code",
   "execution_count": null,
   "metadata": {},
   "outputs": [],
   "source": [
    "for w in stud_list:\n",
    "    if w not in stopwords:\n",
    "        stud_list.append(w)\n",
    "len(stud_list)"
   ]
  },
  {
   "cell_type": "code",
   "execution_count": null,
   "metadata": {},
   "outputs": [],
   "source": []
  }
 ],
 "metadata": {
  "kernelspec": {
   "display_name": "Python 3",
   "language": "python",
   "name": "python3"
  },
  "language_info": {
   "codemirror_mode": {
    "name": "ipython",
    "version": 3
   },
   "file_extension": ".py",
   "mimetype": "text/x-python",
   "name": "python",
   "nbconvert_exporter": "python",
   "pygments_lexer": "ipython3",
   "version": "3.6.5"
  }
 },
 "nbformat": 4,
 "nbformat_minor": 2
}
